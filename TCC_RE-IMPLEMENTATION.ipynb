{
 "cells": [
  {
   "cell_type": "markdown",
   "metadata": {},
   "source": [
    "This is a simple re-implementation of \"Character cluster based Thai information retrieval\".\n",
    "เน้นทำตาม Figure 2 ใน paper "
   ]
  },
  {
   "cell_type": "code",
   "execution_count": 1,
   "metadata": {
    "collapsed": true
   },
   "outputs": [],
   "source": [
    "import re"
   ]
  },
  {
   "cell_type": "code",
   "execution_count": 2,
   "metadata": {
    "collapsed": true
   },
   "outputs": [],
   "source": [
    "### ADDITIONAL FEATURES\n",
    "consonant=\"กขฃคฅฆงจฉชซฌญฎฏฐฑฒณดตถทธนบปผฝพฟภมยรฤลฦวศษสหฬอฮ\"\n",
    "final_consonant=\"กขคฆงจชซญฎฏฐฑฒณดตถทธนบปพฟภมยรลวศษวฬอ\" #not sure\n",
    "number=\"0123456789๑๒๓๔๕๖๗๘๙\"\n",
    "front_vowel=\"เแโใไ\"\n",
    "lower_vowel=\"อุอู\".replace('อ','') #ทำแบบนี้จะได้อ่านออก\n",
    "rear_vowel = \"าําๅๆะฯๅๆ\"\n",
    "upper_vowel = \"อ็อ้อ์อิอีอือึอํอัอ่อ๋อ๊\".replace('อ','')\n",
    "tone = \"อ้อ่อ๋อ๊\".replace('อ','')"
   ]
  },
  {
   "cell_type": "code",
   "execution_count": 3,
   "metadata": {},
   "outputs": [],
   "source": [
    "regex_rule_tone = r\"[\" + tone +\"]\"\n",
    "regex_rule_cons = r\"[\" + consonant +\"]\"\n",
    "regex_rule_fcons = r\"[\" + final_consonant +\"]\"\n",
    "regex_rule_lvowel = r\"[\" + lower_vowel +\"]\"\n",
    "regex_rule_fvowel = r\"[\" + front_vowel +\"]\"\n",
    "regex_rule_uvowel = r\"[\" + upper_vowel +\"]\"\n",
    "regex_rule_ulvowel = r\"[\" + upper_vowel+lower_vowel +\"]\"\n",
    "\n",
    "            "
   ]
  },
  {
   "cell_type": "code",
   "execution_count": 4,
   "metadata": {
    "collapsed": true
   },
   "outputs": [],
   "source": [
    "#All rules for TCC Segmentation\n",
    "regex_TCC1 = \"(\"+regex_rule_lvowel+regex_rule_tone+\"?\"+\"|\"+\\\n",
    "             regex_rule_tone+\"?\"+\"ำ\"+\\\n",
    "             \"อึอื\".replace('อ','')+regex_rule_tone+\"?\"+regex_rule_fcons+\"|\"+\\\n",
    "              \"อั\".replace('อ','')+\"(\"+regex_rule_tone+\"[อุอิ])\".replace('อ','')+\"?|\"+\\\n",
    "              \"อ็\".replace('อ','')+regex_rule_fcons+\"|\"+\\\n",
    "              regex_rule_tone+regex_rule_ulvowel+\"ว?\"+regex_rule_fcons+\"|\"+\\\n",
    "             \"อิ\".replace('อ','')+\"(\"+regex_rule_tone+regex_rule_fcons+\"?\" +\")?|\"+\\\n",
    "             \"อี\".replace('อ','')+regex_rule_tone+\"|\"+\\\n",
    "             regex_rule_tone+\"?\"+regex_rule_lvowel+\")\"\n",
    "                \n",
    "regex_TCC2 = \"(\"+regex_rule_cons + \"าะ|\" +\\\n",
    "             \"อ็\".replace('อ','')+regex_rule_fcons+\"|\"+\\\n",
    "             regex_rule_uvowel+regex_rule_tone+\"?\"+regex_rule_fcons+\"[าะ]|\"+\\\n",
    "             regex_rule_tone+\"?\"+\"(าะ|ะ|า)\"+\")\"\n",
    "                    \n",
    "regex_KARAN = \"(\" + regex_rule_cons+regex_rule_cons+\"?\"+\"[อุอูอิ]?\".replace('อ','')+\"์\" + \")\"\n",
    "            \n",
    "##############################################################\n",
    "regex_TCC = r\"ก็|อึ|หึ|\"\\\n",
    "            +regex_rule_cons+\"รร\"+regex_rule_cons+\"์|\"\\\n",
    "            +regex_rule_cons+regex_rule_fcons+regex_rule_cons+\"์|\"\\\n",
    "            +regex_rule_cons+regex_TCC1+\"?\"+regex_KARAN +\"?|\"\\\n",
    "            +regex_rule_fvowel+regex_rule_cons+regex_TCC2+\"(\"+regex_KARAN +\")?\"\n",
    "##############################################################    \n"
   ]
  },
  {
   "cell_type": "code",
   "execution_count": 5,
   "metadata": {},
   "outputs": [
    {
     "name": "stdout",
     "output_type": "stream",
     "text": [
      "00-02: อึ\n",
      "02-07: จรรย์\n",
      "07-09: ก็\n",
      "09-11: หึ\n",
      "11-14: กู้\n",
      "14-16: ดิ\n",
      "16-20: เก่า\n"
     ]
    }
   ],
   "source": [
    "# Testing        \n",
    "x = re.finditer(regex_TCC,  \"อึจรรย์ก็หึกู้ดิเก่า\")\n",
    "for m in x:\n",
    "    print('%02d-%02d: %s' % (m.start(), m.end(), m.group(0)))"
   ]
  }
 ],
 "metadata": {
  "kernelspec": {
   "display_name": "Python 3",
   "language": "python",
   "name": "python3"
  },
  "language_info": {
   "codemirror_mode": {
    "name": "ipython",
    "version": 3
   },
   "file_extension": ".py",
   "mimetype": "text/x-python",
   "name": "python",
   "nbconvert_exporter": "python",
   "pygments_lexer": "ipython3",
   "version": "3.6.3"
  }
 },
 "nbformat": 4,
 "nbformat_minor": 2
}
